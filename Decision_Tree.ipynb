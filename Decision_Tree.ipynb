{
  "nbformat": 4,
  "nbformat_minor": 0,
  "metadata": {
    "colab": {
      "provenance": [],
      "authorship_tag": "ABX9TyM0qIYa1DTyuBzSBRlGmHZ4",
      "include_colab_link": true
    },
    "kernelspec": {
      "name": "python3",
      "display_name": "Python 3"
    },
    "language_info": {
      "name": "python"
    }
  },
  "cells": [
    {
      "cell_type": "markdown",
      "metadata": {
        "id": "view-in-github",
        "colab_type": "text"
      },
      "source": [
        "<a href=\"https://colab.research.google.com/github/tamahhamat/AI-project/blob/main/Decision_Tree.ipynb\" target=\"_parent\"><img src=\"https://colab.research.google.com/assets/colab-badge.svg\" alt=\"Open In Colab\"/></a>"
      ]
    },
    {
      "cell_type": "markdown",
      "source": [
        "# **Setup**"
      ],
      "metadata": {
        "id": "qYRGn-FREqPa"
      }
    },
    {
      "cell_type": "code",
      "execution_count": 1,
      "metadata": {
        "id": "3BYBJKrzBUbE",
        "colab": {
          "base_uri": "https://localhost:8080/"
        },
        "outputId": "d9bb41f5-545b-46b1-8b11-9355867a799e"
      },
      "outputs": [
        {
          "output_type": "stream",
          "name": "stdout",
          "text": [
            "Requirement already satisfied: scikit-learn in /usr/local/lib/python3.10/dist-packages (1.2.2)\n",
            "Requirement already satisfied: numpy>=1.17.3 in /usr/local/lib/python3.10/dist-packages (from scikit-learn) (1.25.2)\n",
            "Requirement already satisfied: scipy>=1.3.2 in /usr/local/lib/python3.10/dist-packages (from scikit-learn) (1.11.4)\n",
            "Requirement already satisfied: joblib>=1.1.1 in /usr/local/lib/python3.10/dist-packages (from scikit-learn) (1.3.2)\n",
            "Requirement already satisfied: threadpoolctl>=2.0.0 in /usr/local/lib/python3.10/dist-packages (from scikit-learn) (3.3.0)\n"
          ]
        }
      ],
      "source": [
        "pip install scikit-learn"
      ]
    },
    {
      "cell_type": "code",
      "source": [],
      "metadata": {
        "id": "D_8eBqUJfd8R"
      },
      "execution_count": 1,
      "outputs": []
    },
    {
      "cell_type": "code",
      "source": [],
      "metadata": {
        "id": "rtYN-k2aCHZz"
      },
      "execution_count": 1,
      "outputs": []
    },
    {
      "cell_type": "code",
      "source": [
        "# connect to google drive\n",
        "\n",
        "from google.colab import drive\n",
        "drive.mount('/content/drive')\n",
        "\n",
        "# Set the path folder\n",
        "PED_data_path = '/content/drive/MyDrive/AIdata/PED'\n",
        "\n",
        "# Enable data table display for Pandas dataframes\n",
        "data_table.enable_dataframe_formatter()"
      ],
      "metadata": {
        "id": "bad9wF2cCNUo"
      },
      "execution_count": null,
      "outputs": []
    },
    {
      "cell_type": "markdown",
      "source": [
        "# **Data**"
      ],
      "metadata": {
        "id": "WpoWqFL2EvI0"
      }
    },
    {
      "cell_type": "markdown",
      "source": [
        "**Demographics**"
      ],
      "metadata": {
        "id": "48JvkJm88gM_"
      }
    },
    {
      "cell_type": "code",
      "source": [
        "# Create an empty dataframe\n",
        "columns = [\"Participant\", 'playedBefore', 'timePlaying', 'play', 'age', 'sex', 'country']\n",
        "participant_df = pd.DataFrame(columns=columns)\n",
        "\n",
        "# Iterate through participant folders\n",
        "for participant_folder in os.listdir(PED_data_path):\n",
        "    participant_path = os.path.join(PED_data_path, participant_folder)\n",
        "\n",
        "    # Check if it's a directory\n",
        "    if os.path.isdir(participant_path):\n",
        "        # Get the list of files in the participant folder\n",
        "        files_list = os.listdir(participant_path)\n",
        "\n",
        "        # Initialize variables for additional information\n",
        "        played_before = None\n",
        "        time_playing = None\n",
        "        play = None\n",
        "        age = None\n",
        "        sex = None\n",
        "        country = None\n",
        "\n",
        "        # Check if 'Dem.csv' file exists in the folder\n",
        "        dem_file_path = os.path.join(participant_path, 'Dem.csv')\n",
        "        if os.path.exists(dem_file_path):\n",
        "            # Read the 'Dem.csv' file\n",
        "            dem_df = pd.read_csv(dem_file_path, header=None, names=['A', 'B', 'C', 'D', 'E', 'F'])\n",
        "\n",
        "            # Extract data from the dataframe\n",
        "            row_data = dem_df.iloc[0]\n",
        "            played_before = int(row_data['A'])\n",
        "            time_playing = int(row_data['B'])\n",
        "            play = int(row_data['C'])\n",
        "            age = int(row_data['D'])\n",
        "            sex = int(row_data['E'])\n",
        "            country = row_data['F']\n",
        "\n",
        "        # Add the folder name, file count,etc information to the dataframe\n",
        "        new_row = pd.DataFrame({\n",
        "            \"Participant\": [participant_folder],\n",
        "            'playedBefore': [played_before],\n",
        "            'timePlaying': [time_playing],\n",
        "            'play': [play],\n",
        "            'age': [age],\n",
        "            'sex': [sex],\n",
        "            'country': [country]\n",
        "        })\n",
        "\n",
        "        participant_df = pd.concat([participant_df, new_row], ignore_index=True)\n",
        "\n",
        "# # Display the participant dataframe\n",
        "# display(participant_df)\n",
        "\n",
        "# Pivot the dataframe\n",
        "pivoted_df = participant_df.pivot_table(index='Participant', aggfunc='first')\n",
        "\n",
        "# # Display the pivoted dataframe\n",
        "# display(pivoted_df)"
      ],
      "metadata": {
        "id": "5VBWJkN1Cmcn"
      },
      "execution_count": null,
      "outputs": []
    },
    {
      "cell_type": "markdown",
      "source": [
        "**Preferences**"
      ],
      "metadata": {
        "id": "a-SiqQAK8ybI"
      }
    },
    {
      "cell_type": "code",
      "source": [
        "# Combined tables\n",
        "\n",
        "# Create an empty DataFrame for combined data\n",
        "combined_prefs_df = pd.DataFrame()\n",
        "\n",
        "# Iterate through participant folders\n",
        "for participant_folder in os.listdir(PED_data_path):\n",
        "    participant_path = os.path.join(PED_data_path, participant_folder)\n",
        "\n",
        "    # Check if it's a directory\n",
        "    if os.path.isdir(participant_path):\n",
        "        # Get the 'Pref.csv' file path for each participant\n",
        "        prefs_file_path = os.path.join(participant_path, 'Pref.csv')\n",
        "\n",
        "        # Check if 'Pref.csv' file exists\n",
        "        if os.path.exists(prefs_file_path):\n",
        "            # Read the 'Pref.csv' file\n",
        "            prefs_df_participant = pd.read_csv(prefs_file_path, header=None)\n",
        "\n",
        "            prefs_df_participant = prefs_df_participant.iloc[:, :10]\n",
        "\n",
        "            # Rename the columns\n",
        "            prefs_df_participant.columns = ['Game #', 'Level A Engagement', 'Level A Frustration', 'Level A Challenge', 'Level B Engagement', 'Level B Frustration', 'Level B Challenge', 'Engagement Preferences', 'Frustration Preferences', 'Challenge Preferences']\n",
        "\n",
        "            # Add a new column for participant folder name\n",
        "            prefs_df_participant.insert(0, 'Participant', participant_folder)\n",
        "\n",
        "            # add participant data to the combined DataFrame\n",
        "            if not combined_prefs_df.empty:\n",
        "                combined_prefs_df = pd.concat([combined_prefs_df, pd.DataFrame([[''] * len(prefs_df_participant.columns)], columns=prefs_df_participant.columns)], ignore_index=True)\n",
        "            combined_prefs_df = pd.concat([combined_prefs_df, prefs_df_participant], ignore_index=True)\n",
        "\n",
        "# # Display the combined DataFrame\n",
        "# display(combined_prefs_df)"
      ],
      "metadata": {
        "id": "t1gm5RIfDris"
      },
      "execution_count": null,
      "outputs": []
    },
    {
      "cell_type": "markdown",
      "source": [
        "**Gameplay**"
      ],
      "metadata": {
        "id": "u2jzP8yq9ECi"
      }
    },
    {
      "cell_type": "code",
      "source": [
        "# Function to combine data for all games played by a player into a single DataFrame\n",
        "def combine_player_data(participant_folder):\n",
        "    # Construct path to the participant folder\n",
        "    participant_folder_path = os.path.join(PED_data_path, participant_folder)\n",
        "\n",
        "    # List all game play CSV files in the participant folder\n",
        "    csv_files = [file for file in os.listdir(participant_folder_path) if file.endswith('_A.csv') or file.endswith('_B.csv')]\n",
        "\n",
        "    # Initialize empty list to store DataFrames for each game\n",
        "    dfs = []\n",
        "\n",
        "    # Iterate over each CSV file in the participant folder\n",
        "    for csv_file in csv_files:\n",
        "        # Construct path to the CSV file\n",
        "        csv_file_path = os.path.join(participant_folder_path, csv_file)\n",
        "\n",
        "        # Read the CSV file into a DataFrame\n",
        "        try:\n",
        "            df = pd.read_csv(csv_file_path, header=None, names=[\"time stamp\", \"action code\"])\n",
        "        except Exception as e:\n",
        "            print(f\"Error reading {csv_file_path}: {e}\")\n",
        "            continue\n",
        "\n",
        "        # Replace NaN values with a placeholder\n",
        "        df.fillna('NA', inplace=True)\n",
        "\n",
        "        # get game number and level from the file name\n",
        "        game_number, level = re.search(r'(\\d+)_([AB])', csv_file).groups()\n",
        "\n",
        "        # Add columns for player folder name, game file name, game number, level, and attempt number\n",
        "        df['Participant'] = participant_folder\n",
        "        df['Game'] = csv_file\n",
        "        df['GameNumber'] = int(game_number)\n",
        "        df['Level'] = level\n",
        "        df['Attempt'] = (df['action code'].astype(str).str.lower().str.contains('level_start')).cumsum()\n",
        "\n",
        "        # add the DataFrame to the list\n",
        "        dfs.append(df)\n",
        "\n",
        "    # combine all DataFrames in the list into a single DataFrame\n",
        "    combined_df = pd.concat(dfs, ignore_index=True)\n",
        "\n",
        "    # Reorder columns\n",
        "    combined_df = combined_df[['Participant', 'Game', 'GameNumber', 'Level', 'Attempt', 'time stamp', 'action code']]\n",
        "\n",
        "    return combined_df\n",
        "\n",
        "# List of participant folders\n",
        "participant_folders = [\n",
        "    'hec_22_03', 'nat_22_02', 'jul_23_03', 'par_16_03', 'jul_22_02', 'gog_10_03', 'jon_23_03', 'ili_07_12',\n",
        "    'ele_07_12', 'gou_10_03', 'kat_16_03', 'mrn_22_02', 'pin_1_2', 'kar_14_03', 'des_22_02', 'kal_16_03',\n",
        "    'jua_22_03', 'ema_14_02', 'ele_10_03', 'dar_22_03', 'ben_23_03', 'des_16_03', 'chr_22_03', 'ant_23_03',\n",
        "    'asi_08_02', 'ama_16_03', '_teo_10_03', 'ril_22_02', 'kun_22_03', 'nel_1_2', 'mar_1_2', 'mar_23_03', 'nti_16_03',\n",
        "    'dan-17-11', 'kal_08_02', 'mar_22_02', 'rik_22_02', 'ili_09_02', 'pen-17-11', 'leo_22_03', 'var_16_03', 'tro_22_03',\n",
        "    '_jo2_23_03', '_em2_23_03', '_fot_14_03', 'yun_23_03', '_emi_23_03', 'cla_22_03', 'sta_10_03', 'tas_16_03',\n",
        "    'sof_08_02', 'sig_22_02', '_dit_22_02', 'sar_10_03', 'the_08_02', 'ska_16_03', 'ste_04_03', 'sim_14_03', '_tol_11_03'\n",
        "]\n",
        "\n",
        "# create an empty list to store DataFrames for each participant\n",
        "all_participant_dfs = []\n",
        "\n",
        "# Iterate over each participant folder\n",
        "for participant_folder in participant_folders:\n",
        "    # Call the function to combine data for all games played by the participant\n",
        "    combined_data = combine_player_data(participant_folder)\n",
        "\n",
        "    # add the DataFrame to the list\n",
        "    all_participant_dfs.append(combined_data)\n",
        "\n",
        "# combine all DataFrames in the list into a single DataFrame for all participants\n",
        "combined_all_participant_data = pd.concat(all_participant_dfs, ignore_index=True)\n",
        "\n",
        "# # Display the combined DataFrame for all participants, games, and attempts\n",
        "# display(combined_all_participant_data)"
      ],
      "metadata": {
        "id": "GgtWVHu_D0eO"
      },
      "execution_count": null,
      "outputs": []
    },
    {
      "cell_type": "markdown",
      "source": [
        "**Merged Data frames**"
      ],
      "metadata": {
        "id": "rDdw1yMi9mpe"
      }
    },
    {
      "cell_type": "code",
      "source": [
        "# Merge the dataframes on 'Participant' column\n",
        "combined_data = pd.merge(pivoted_df, combined_prefs_df, on='Participant', how='inner')\n",
        "\n",
        "# # Display the combined dataframe\n",
        "# display(combined_data)\n"
      ],
      "metadata": {
        "id": "v-ajiGMuE5yt"
      },
      "execution_count": null,
      "outputs": []
    },
    {
      "cell_type": "markdown",
      "source": [
        "# **Decision Tree**"
      ],
      "metadata": {
        "id": "rN7fXG0XEz_p"
      }
    },
    {
      "cell_type": "markdown",
      "source": [
        "**Level A**"
      ],
      "metadata": {
        "id": "cKZo-2E1Rdun"
      }
    },
    {
      "cell_type": "code",
      "source": [
        "# Select columns for prediction\n",
        "selected_features_a = ['age', 'sex', 'play', 'playedBefore', 'timePlaying', 'Level A Challenge', 'Level A Frustration']\n",
        "\n",
        "target_variable_a = 'Level A Engagement'\n",
        "\n",
        "# Select columns from the combined data\n",
        "selected_data_a = combined_data[[target_variable_a] + selected_features_a].dropna()\n",
        "\n",
        "# Convert to integers\n",
        "selected_data_a[target_variable_a] = selected_data_a[target_variable_a].astype(int)\n",
        "\n",
        "# Split the data into training and testing\n",
        "X_train_a, X_test_a, y_train_a, y_test_a = train_test_split(selected_data_a[selected_features_a], selected_data_a[target_variable_a], test_size=0.2, random_state=42)\n",
        "\n",
        "# Create a decision tree classifier\n",
        "tree_classifier_a = DecisionTreeClassifier(random_state=42)\n",
        "\n",
        "# Train\n",
        "tree_classifier_a.fit(X_train_a, y_train_a)\n",
        "\n",
        "# Make predictions\n",
        "predictions_a = tree_classifier_a.predict(X_test_a)\n",
        "\n",
        "# Evaluate\n",
        "accuracy_a = accuracy_score(y_test_a, predictions_a)\n",
        "report_a = classification_report(y_test_a, predictions_a)\n",
        "\n",
        "print(f\"Accuracy (Level A): {accuracy_a}\")\n",
        "print(\"Classification Report (Level A):\")\n",
        "print(report_a)\n",
        "\n",
        "\n"
      ],
      "metadata": {
        "id": "om85Qzg_FAfv"
      },
      "execution_count": null,
      "outputs": []
    },
    {
      "cell_type": "code",
      "source": [
        "# Get feature importances\n",
        "feature_importance_a = tree_classifier_a.feature_importances_\n",
        "\n",
        "importance_df_a = pd.DataFrame({'Feature': selected_features_a, 'Importance': feature_importance_a})\n",
        "\n",
        "# Sort the DataFrame by importance in descending order\n",
        "importance_df_a = importance_df_a.sort_values(by='Importance', ascending=False)\n",
        "\n",
        "# Display the feature importances\n",
        "print(\"Feature Importances for Level A:\")\n",
        "print(importance_df_a)\n",
        "\n",
        "# data meaning\n",
        "data_meaning = \"\"\"\n",
        "Data Meaning:\n",
        "- Age: The number represents the participant's age.\n",
        "- Sex: 0=male, 1=female.\n",
        "- Play: 0=yes, 1=no.\n",
        "- Played Before: 0=yes, 1=no.\n",
        "- Time Playing:\n",
        "  - 0-2 hours per week: 0.\n",
        "  - 2-5 hours per week: 1.\n",
        "  - 5-10 hours per week: 2.\n",
        "  - 10+ hours per week: 3.\n",
        "- Level Challenge and Level Frustration Ranking Values:\n",
        "  - 0: Extremely.\n",
        "  - 1: Fairly.\n",
        "  - 2: Moderately.\n",
        "  - 3: Slightly.\n",
        "  - 4: Not at all.\n",
        "\"\"\"\n",
        "\n",
        "print(data_meaning)\n",
        "\n",
        "# Plot feature importances\n",
        "plt.figure(figsize=(10, 6))\n",
        "plt.barh(importance_df_a['Feature'], importance_df_a['Importance'])\n",
        "plt.xlabel('Feature Importance')\n",
        "plt.title('Decision Tree Feature Importance for Level A')\n",
        "plt.show()"
      ],
      "metadata": {
        "id": "JO7dlyv7RHW3"
      },
      "execution_count": null,
      "outputs": []
    },
    {
      "cell_type": "code",
      "source": [
        "from sklearn.tree import plot_tree\n",
        "\n",
        "# Create a decision tree classifier\n",
        "tree_classifier_a = DecisionTreeClassifier(random_state=42)\n",
        "\n",
        "# Train the model\n",
        "tree_classifier_a.fit(X_train_a, y_train_a)\n",
        "\n",
        "# show the decision tree\n",
        "plt.figure(figsize=(20, 10))\n",
        "plot_tree(tree_classifier_a, feature_names=selected_features_a, class_names=[str(i) for i in range(5)], filled=True, rounded=True)\n",
        "plt.show()"
      ],
      "metadata": {
        "id": "J-dpBtO76u9b"
      },
      "execution_count": null,
      "outputs": []
    },
    {
      "cell_type": "markdown",
      "source": [],
      "metadata": {
        "id": "8aGMKn18dqV0"
      }
    },
    {
      "cell_type": "code",
      "source": [
        "pip install shap"
      ],
      "metadata": {
        "id": "9nkPCiTfigr9"
      },
      "execution_count": null,
      "outputs": []
    },
    {
      "cell_type": "code",
      "source": [
        "from sklearn.inspection import PartialDependenceDisplay\n",
        "\n",
        "target_variable_a = 'Level A Engagement'\n",
        "\n",
        "# Choose a target class\n",
        "target_class = 0\n",
        "\n",
        "# Create a decision tree classifier\n",
        "tree_classifier_a = DecisionTreeClassifier(random_state=42)\n",
        "\n",
        "# Train model\n",
        "tree_classifier_a.fit(X_train_a, y_train_a)\n",
        "\n",
        "# Create PartialDependenceDisplay for each feature\n",
        "fig, ax = plt.subplots(figsize=(15, 10))\n",
        "disp = PartialDependenceDisplay.from_estimator(\n",
        "    tree_classifier_a, X_test_a, features=selected_features_a, ax=ax, target=target_class\n",
        ")\n",
        "disp.figure_.suptitle(f'Partial Dependence Plots for Level A (Class {target_class})', y=1.02)\n",
        "plt.show()"
      ],
      "metadata": {
        "id": "1QeNdrga7vuk"
      },
      "execution_count": null,
      "outputs": []
    },
    {
      "cell_type": "markdown",
      "source": [],
      "metadata": {
        "id": "DJK_I-JNdo7E"
      }
    },
    {
      "cell_type": "markdown",
      "source": [],
      "metadata": {
        "id": "-YdCxRNjdpA3"
      }
    },
    {
      "cell_type": "markdown",
      "source": [
        "**Level B**"
      ],
      "metadata": {
        "id": "sLUu4MUWRLcC"
      }
    },
    {
      "cell_type": "code",
      "source": [
        "# Select columns for prediction\n",
        "selected_features_b = ['age', 'sex', 'play', 'playedBefore', 'timePlaying', 'Level B Challenge', 'Level B Frustration']\n",
        "\n",
        "# Level B Engagement is the target variable\n",
        "target_variable_b = 'Level B Engagement'\n",
        "\n",
        "# Select columns from the combined data\n",
        "selected_data_b = combined_data[[target_variable_b] + selected_features_b].dropna()\n",
        "\n",
        "# Convert to integers\n",
        "selected_data_b[target_variable_b] = selected_data_b[target_variable_b].astype(int)\n",
        "\n",
        "# Split the data into training and testing sets\n",
        "X_train_b, X_test_b, y_train_b, y_test_b = train_test_split(selected_data_b[selected_features_b], selected_data_b[target_variable_b], test_size=0.2, random_state=42)\n",
        "\n",
        "# Create a decision tree classifier\n",
        "tree_classifier_b = DecisionTreeClassifier(random_state=42)\n",
        "\n",
        "# Train the model\n",
        "tree_classifier_b.fit(X_train_b, y_train_b)\n",
        "\n",
        "# Make predictions on test set\n",
        "predictions_b = tree_classifier_b.predict(X_test_b)\n",
        "\n",
        "# Evaluate the model\n",
        "accuracy_b = accuracy_score(y_test_b, predictions_b)\n",
        "report_b = classification_report(y_test_b, predictions_b)\n",
        "\n",
        "print(f\"Accuracy (Level B): {accuracy_b}\")\n",
        "print(\"Classification Report (Level B):\")\n",
        "print(report_b)\n",
        "\n"
      ],
      "metadata": {
        "id": "tzJ7L_5vRjus"
      },
      "execution_count": null,
      "outputs": []
    },
    {
      "cell_type": "code",
      "source": [
        "# Get feature importances\n",
        "feature_importance_b = tree_classifier_b.feature_importances_\n",
        "\n",
        "# Create a DataFrame\n",
        "importance_df_b = pd.DataFrame({'Feature': selected_features_b, 'Importance': feature_importance_b})\n",
        "\n",
        "# Sort the DataFrame by importance in descending order\n",
        "importance_df_b = importance_df_b.sort_values(by='Importance', ascending=False)\n",
        "\n",
        "# Display the feature importances\n",
        "print(\"Feature Importances for Level B:\")\n",
        "print(importance_df_b)\n",
        "\n",
        "# Display the data meanings\n",
        "data_meaning_b = \"\"\"\n",
        "Data Meaning:\n",
        "- Age: The number represents the participant's age.\n",
        "- Sex: 0=male, 1=female.\n",
        "- Play: 0=yes, 1=no.\n",
        "- Played Before: 0=yes, 1=no.\n",
        "- Time Playing:\n",
        "  - 0-2 hours per week: 0.\n",
        "  - 2-5 hours per week: 1.\n",
        "  - 5-10 hours per week: 2.\n",
        "  - 10+ hours per week: 3.\n",
        "- Level B Challenge and Level B Frustration Ranking Values:\n",
        "  - 0: Extremely.\n",
        "  - 1: Fairly.\n",
        "  - 2: Moderately.\n",
        "  - 3: Slightly.\n",
        "  - 4: Not at all.\n",
        "\"\"\"\n",
        "\n",
        "print(data_meaning_b)\n",
        "\n",
        "# Plot feature importances\n",
        "plt.figure(figsize=(10, 6))\n",
        "plt.barh(importance_df_b['Feature'], importance_df_b['Importance'])\n",
        "plt.xlabel('Feature Importance')\n",
        "plt.title('Decision Tree Feature Importance for Level B')\n",
        "plt.show()"
      ],
      "metadata": {
        "id": "GZcNjoNBWba-"
      },
      "execution_count": null,
      "outputs": []
    },
    {
      "cell_type": "code",
      "source": [
        "# Create a decision tree classifier\n",
        "tree_classifier_b = DecisionTreeClassifier(random_state=42)\n",
        "\n",
        "# Train the model\n",
        "tree_classifier_b.fit(X_train_b, y_train_b)\n",
        "\n",
        "# show the decision tree\n",
        "plt.figure(figsize=(20, 10))\n",
        "plot_tree(tree_classifier_b, feature_names=selected_features_b, class_names=[str(i) for i in range(5)], filled=True, rounded=True)\n",
        "plt.show()"
      ],
      "metadata": {
        "id": "zOajaCl06ncE"
      },
      "execution_count": null,
      "outputs": []
    },
    {
      "cell_type": "code",
      "source": [],
      "metadata": {
        "id": "3za-XqsL7xGD"
      },
      "execution_count": null,
      "outputs": []
    },
    {
      "cell_type": "markdown",
      "source": [],
      "metadata": {
        "id": "_9pTVWuPE5Sz"
      }
    }
  ]
}