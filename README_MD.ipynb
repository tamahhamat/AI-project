{
  "nbformat": 4,
  "nbformat_minor": 0,
  "metadata": {
    "colab": {
      "provenance": [],
      "authorship_tag": "ABX9TyNFuCBVdTrFrWVanhjRKwSQ",
      "include_colab_link": true
    },
    "kernelspec": {
      "name": "python3",
      "display_name": "Python 3"
    },
    "language_info": {
      "name": "python"
    }
  },
  "cells": [
    {
      "cell_type": "markdown",
      "metadata": {
        "id": "view-in-github",
        "colab_type": "text"
      },
      "source": [
        "<a href=\"https://colab.research.google.com/github/tamahhamat/AI-project/blob/main/README_MD.ipynb\" target=\"_parent\"><img src=\"https://colab.research.google.com/assets/colab-badge.svg\" alt=\"Open In Colab\"/></a>"
      ]
    },
    {
      "cell_type": "markdown",
      "source": [
        "# AI Models\n",
        "\n",
        "This repository contains two models based on the research and datasets below:\n",
        "\n",
        "\n",
        "### Original Dataset and Research:\n",
        "- **Title:** \"The platformer experience dataset\"\n",
        "- **Authors:** Kostas Karpouzis, Georgios N. Yannakakis, Noor Shaker, Stylianos Asteriadis\n",
        "- **Year:** 2015\n",
        "- **Conference:** 2015 International Conference on Affective Computing and Intelligent Interaction (ACII)\n",
        "- **Pages:** 712-718\n",
        "\n",
        "\n",
        "### Additional:\n",
        "- **Title:** \"Game AI Revisited\"\n",
        "- **Author:** Georgios N. Yannakakis\n",
        "- **Year:** 2012\n",
        "- **Journal:** Center for Computer Games Research at the IT University of Copenhagen\n",
        "- **Pages:** 285-292\n",
        "\n",
        "\n",
        "\n",
        "\n",
        "\n",
        "## Decision Tree Model\n",
        "\n",
        "### Code File: [Decision Tree](decision_tree.py)\n",
        "\n",
        "### Description:\n",
        "This model uses a Decision Tree to predict player engagement levels for Level A and Level B based on demographic and gameplay data. Features include age, sex,  time spent playing, and ratings for challenge and frustration.\n",
        "\n",
        "## Linear Regression Model\n",
        "\n",
        "### Code File: [Linear Regression](linear_regression.py)\n",
        "\n",
        "### Description:\n",
        "This model employs Linear Regression to predict player engagement levels for Level A and Level B based on demographic and gameplay data. Features include age, sex,  time spent playing, and ratings for challenge and frustration.\n",
        "\n",
        "\n",
        "### Dataset Source:\n",
        "The datasets used in these models are part of the Player Experience Dataset (PED) available at [https://ped.institutedigitalgames.com/](https://ped.institutedigitalgames.com/).\n",
        "\n",
        "## Setup:\n",
        "\n",
        "1. Ensure the required libraries are installed: scikit-learn, pandas, matplotlib.\n",
        ".\n",
        "2. Connect to Google Drive to access the PED dataset.\n",
        "\n",
        "## Data Processing:\n",
        "\n",
        "- **Demographics:** gets participant information like age, sex, and time spent playing.\n",
        "- **Preferences:** Combines participant ratings for engagement, frustration, and challenge.\n",
        "- **Gameplay:** combines data for all games played, including timestamps and action codes.\n",
        "\n",
        "## Decision Tree Model Training:\n",
        "\n",
        "- Trains a Decision Tree classifier for predicting engagement levels\n",
        "- Gives accuracy, classification report, and feature importances.\n",
        "- Displays the decision tree and partial dependence plots.\n",
        "\n",
        "\n",
        "## Linear Regression Model Training:\n",
        "\n",
        "- Trains a Linear Regression model for predicting engagement\n",
        "- Shows evaluation metrics (Mean Squared Error, R-squared) and coefficients.\n",
        "- Shows actual vs predicted values.\n",
        "\n",
        "### Note:\n",
        "\n",
        "- The dataset path is set to `/content/drive/MyDrive/AIdata/PED`, update as needed.\n"
      ],
      "metadata": {
        "id": "lf1lHXFppChd"
      }
    }
  ]
}