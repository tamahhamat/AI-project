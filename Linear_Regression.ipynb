{
  "cells": [
    {
      "cell_type": "markdown",
      "metadata": {
        "id": "view-in-github",
        "colab_type": "text"
      },
      "source": [
        "<a href=\"https://colab.research.google.com/github/tamahhamat/AI-project/blob/main/Linear_Regression.ipynb\" target=\"_parent\"><img src=\"https://colab.research.google.com/assets/colab-badge.svg\" alt=\"Open In Colab\"/></a>"
      ]
    },
    {
      "cell_type": "markdown",
      "metadata": {
        "id": "pofTaWXZvD7T"
      },
      "source": [
        "# **Setup**"
      ]
    },
    {
      "cell_type": "code",
      "execution_count": 1,
      "metadata": {
        "colab": {
          "base_uri": "https://localhost:8080/"
        },
        "id": "D-mVLDndu3Mh",
        "outputId": "84b193d0-0d7c-40f1-c1db-6a2c856f0824"
      },
      "outputs": [
        {
          "output_type": "stream",
          "name": "stdout",
          "text": [
            "Requirement already satisfied: pandas in /usr/local/lib/python3.10/dist-packages (1.5.3)\n",
            "Requirement already satisfied: scikit-learn in /usr/local/lib/python3.10/dist-packages (1.2.2)\n",
            "Requirement already satisfied: matplotlib in /usr/local/lib/python3.10/dist-packages (3.7.1)\n",
            "Requirement already satisfied: python-dateutil>=2.8.1 in /usr/local/lib/python3.10/dist-packages (from pandas) (2.8.2)\n",
            "Requirement already satisfied: pytz>=2020.1 in /usr/local/lib/python3.10/dist-packages (from pandas) (2023.4)\n",
            "Requirement already satisfied: numpy>=1.21.0 in /usr/local/lib/python3.10/dist-packages (from pandas) (1.25.2)\n",
            "Requirement already satisfied: scipy>=1.3.2 in /usr/local/lib/python3.10/dist-packages (from scikit-learn) (1.11.4)\n",
            "Requirement already satisfied: joblib>=1.1.1 in /usr/local/lib/python3.10/dist-packages (from scikit-learn) (1.3.2)\n",
            "Requirement already satisfied: threadpoolctl>=2.0.0 in /usr/local/lib/python3.10/dist-packages (from scikit-learn) (3.3.0)\n",
            "Requirement already satisfied: contourpy>=1.0.1 in /usr/local/lib/python3.10/dist-packages (from matplotlib) (1.2.0)\n",
            "Requirement already satisfied: cycler>=0.10 in /usr/local/lib/python3.10/dist-packages (from matplotlib) (0.12.1)\n",
            "Requirement already satisfied: fonttools>=4.22.0 in /usr/local/lib/python3.10/dist-packages (from matplotlib) (4.49.0)\n",
            "Requirement already satisfied: kiwisolver>=1.0.1 in /usr/local/lib/python3.10/dist-packages (from matplotlib) (1.4.5)\n",
            "Requirement already satisfied: packaging>=20.0 in /usr/local/lib/python3.10/dist-packages (from matplotlib) (23.2)\n",
            "Requirement already satisfied: pillow>=6.2.0 in /usr/local/lib/python3.10/dist-packages (from matplotlib) (9.4.0)\n",
            "Requirement already satisfied: pyparsing>=2.3.1 in /usr/local/lib/python3.10/dist-packages (from matplotlib) (3.1.1)\n",
            "Requirement already satisfied: six>=1.5 in /usr/local/lib/python3.10/dist-packages (from python-dateutil>=2.8.1->pandas) (1.16.0)\n"
          ]
        }
      ],
      "source": [
        "!pip install pandas scikit-learn matplotlib\n"
      ]
    },
    {
      "cell_type": "code",
      "execution_count": 2,
      "metadata": {
        "id": "4HvwaB1mvJKR"
      },
      "outputs": [],
      "source": [
        "# load external libraries\n",
        "\n",
        "from google.colab import drive, data_table\n",
        "import os\n",
        "import pandas as pd\n",
        "import numpy as np\n",
        "import re\n",
        "from sklearn.model_selection import train_test_split\n",
        "from sklearn.linear_model import LinearRegression\n",
        "from sklearn.metrics import mean_squared_error, r2_score\n"
      ]
    },
    {
      "cell_type": "code",
      "execution_count": 3,
      "metadata": {
        "colab": {
          "base_uri": "https://localhost:8080/"
        },
        "id": "hl97Q5EXvKvM",
        "outputId": "69404ffb-9b63-44a6-9396-41a1bc6da71b"
      },
      "outputs": [
        {
          "output_type": "stream",
          "name": "stdout",
          "text": [
            "Mounted at /content/drive\n"
          ]
        }
      ],
      "source": [
        "# connect to google drive\n",
        "\n",
        "from google.colab import drive\n",
        "drive.mount('/content/drive')\n",
        "\n",
        "# Set the path folder\n",
        "PED_data_path = '/content/drive/MyDrive/AIdata/PED'\n",
        "\n",
        "# Enable data table display for Pandas dataframes\n",
        "data_table.enable_dataframe_formatter()\n"
      ]
    },
    {
      "cell_type": "markdown",
      "metadata": {
        "id": "sqhITaU-vdRe"
      },
      "source": [
        "# **Data**"
      ]
    },
    {
      "cell_type": "markdown",
      "metadata": {
        "id": "sJC8CoMEvvJk"
      },
      "source": [
        "**Demographics**"
      ]
    },
    {
      "cell_type": "code",
      "execution_count": 4,
      "metadata": {
        "id": "zRBS1g8KvdoW"
      },
      "outputs": [],
      "source": [
        "# Create an empty dataframe\n",
        "columns = [\"Participant\", 'playedBefore', 'timePlaying', 'play', 'age', 'sex', 'country']\n",
        "participant_df = pd.DataFrame(columns=columns)\n",
        "\n",
        "# Iterate through participant folders\n",
        "for participant_folder in os.listdir(PED_data_path):\n",
        "    participant_path = os.path.join(PED_data_path, participant_folder)\n",
        "\n",
        "    # Check if it's a directory\n",
        "    if os.path.isdir(participant_path):\n",
        "        # Get the list of files in the participant folder\n",
        "        files_list = os.listdir(participant_path)\n",
        "\n",
        "        # Initialize variables for additional information\n",
        "        played_before = None\n",
        "        time_playing = None\n",
        "        play = None\n",
        "        age = None\n",
        "        sex = None\n",
        "        country = None\n",
        "\n",
        "        # Check if 'Dem.csv' file exists in the folder\n",
        "        dem_file_path = os.path.join(participant_path, 'Dem.csv')\n",
        "        if os.path.exists(dem_file_path):\n",
        "            # Read the 'Dem.csv' file\n",
        "            dem_df = pd.read_csv(dem_file_path, header=None, names=['A', 'B', 'C', 'D', 'E', 'F'])\n",
        "\n",
        "            # Extract data from the dataframe\n",
        "            row_data = dem_df.iloc[0]\n",
        "            played_before = int(row_data['A'])\n",
        "            time_playing = int(row_data['B'])\n",
        "            play = int(row_data['C'])\n",
        "            age = int(row_data['D'])\n",
        "            sex = int(row_data['E'])\n",
        "            country = row_data['F']\n",
        "\n",
        "        # Add the folder name, file count,etc information to the dataframe\n",
        "        new_row = pd.DataFrame({\n",
        "            \"Participant\": [participant_folder],\n",
        "            'playedBefore': [played_before],\n",
        "            'timePlaying': [time_playing],\n",
        "            'play': [play],\n",
        "            'age': [age],\n",
        "            'sex': [sex],\n",
        "            'country': [country]\n",
        "        })\n",
        "\n",
        "        participant_df = pd.concat([participant_df, new_row], ignore_index=True)\n",
        "\n",
        "# # Display the participant dataframe\n",
        "# display(participant_df)\n",
        "\n",
        "# Pivot the dataframe\n",
        "pivoted_df = participant_df.pivot_table(index='Participant', aggfunc='first')\n",
        "\n",
        "# # Display the pivoted dataframe\n",
        "# display(pivoted_df)"
      ]
    },
    {
      "cell_type": "markdown",
      "metadata": {
        "id": "5SFp6xqdv2oO"
      },
      "source": [
        "**Preferences**"
      ]
    },
    {
      "cell_type": "code",
      "execution_count": 5,
      "metadata": {
        "id": "QvJurvk4v26Y"
      },
      "outputs": [],
      "source": [
        "# Combined tables\n",
        "\n",
        "# Create an empty DataFrame for combined data\n",
        "combined_prefs_df = pd.DataFrame()\n",
        "\n",
        "# Iterate through participant folders\n",
        "for participant_folder in os.listdir(PED_data_path):\n",
        "    participant_path = os.path.join(PED_data_path, participant_folder)\n",
        "\n",
        "    # Check if it's a directory\n",
        "    if os.path.isdir(participant_path):\n",
        "        # Get the 'Pref.csv' file path for each participant\n",
        "        prefs_file_path = os.path.join(participant_path, 'Pref.csv')\n",
        "\n",
        "        # Check if 'Pref.csv' file exists\n",
        "        if os.path.exists(prefs_file_path):\n",
        "            # Read the 'Pref.csv' file\n",
        "            prefs_df_participant = pd.read_csv(prefs_file_path, header=None)\n",
        "\n",
        "            prefs_df_participant = prefs_df_participant.iloc[:, :10]\n",
        "\n",
        "            # Rename the columns\n",
        "            prefs_df_participant.columns = ['Game #', 'Level A Engagement', 'Level A Frustration', 'Level A Challenge', 'Level B Engagement', 'Level B Frustration', 'Level B Challenge', 'Engagement Preferences', 'Frustration Preferences', 'Challenge Preferences']\n",
        "\n",
        "            # Add a new column for participant folder name\n",
        "            prefs_df_participant.insert(0, 'Participant', participant_folder)\n",
        "\n",
        "            # add participant data to the combined DataFrame\n",
        "            if not combined_prefs_df.empty:\n",
        "                combined_prefs_df = pd.concat([combined_prefs_df, pd.DataFrame([[''] * len(prefs_df_participant.columns)], columns=prefs_df_participant.columns)], ignore_index=True)\n",
        "            combined_prefs_df = pd.concat([combined_prefs_df, prefs_df_participant], ignore_index=True)\n",
        "\n",
        "# # Display the combined DataFrame\n",
        "# display(combined_prefs_df)"
      ]
    },
    {
      "cell_type": "markdown",
      "metadata": {
        "id": "3Euu4fxywAo_"
      },
      "source": [
        "**Gameplay**"
      ]
    },
    {
      "cell_type": "code",
      "execution_count": 6,
      "metadata": {
        "id": "EEoWxK_pwAxH"
      },
      "outputs": [],
      "source": [
        "# Function to combine data for all games played by a player into a single DataFrame\n",
        "def combine_player_data(participant_folder):\n",
        "    # Construct path to the participant folder\n",
        "    participant_folder_path = os.path.join(PED_data_path, participant_folder)\n",
        "\n",
        "    # List all game play CSV files in the participant folder\n",
        "    csv_files = [file for file in os.listdir(participant_folder_path) if file.endswith('_A.csv') or file.endswith('_B.csv')]\n",
        "\n",
        "    # Initialize empty list to store DataFrames for each game\n",
        "    dfs = []\n",
        "\n",
        "    # Iterate over each CSV file in the participant folder\n",
        "    for csv_file in csv_files:\n",
        "        # Construct path to the CSV file\n",
        "        csv_file_path = os.path.join(participant_folder_path, csv_file)\n",
        "\n",
        "        # Read the CSV file into a DataFrame\n",
        "        try:\n",
        "            df = pd.read_csv(csv_file_path, header=None, names=[\"time stamp\", \"action code\"])\n",
        "        except Exception as e:\n",
        "            print(f\"Error reading {csv_file_path}: {e}\")\n",
        "            continue\n",
        "\n",
        "        # Replace NaN values with a placeholder\n",
        "        df.fillna('NA', inplace=True)\n",
        "\n",
        "        # get game number and level from the file name\n",
        "        game_number, level = re.search(r'(\\d+)_([AB])', csv_file).groups()\n",
        "\n",
        "        # Add columns for player folder name, game file name, game number, level, and attempt number\n",
        "        df['Participant'] = participant_folder\n",
        "        df['Game'] = csv_file\n",
        "        df['GameNumber'] = int(game_number)\n",
        "        df['Level'] = level\n",
        "        df['Attempt'] = (df['action code'].astype(str).str.lower().str.contains('level_start')).cumsum()\n",
        "\n",
        "        # add the DataFrame to the list\n",
        "        dfs.append(df)\n",
        "\n",
        "    # combine all DataFrames in the list into a single DataFrame\n",
        "    combined_df = pd.concat(dfs, ignore_index=True)\n",
        "\n",
        "    # Reorder columns\n",
        "    combined_df = combined_df[['Participant', 'Game', 'GameNumber', 'Level', 'Attempt', 'time stamp', 'action code']]\n",
        "\n",
        "    return combined_df\n",
        "\n",
        "# List of participant folders\n",
        "participant_folders = [\n",
        "    'hec_22_03', 'nat_22_02', 'jul_23_03', 'par_16_03', 'jul_22_02', 'gog_10_03', 'jon_23_03', 'ili_07_12',\n",
        "    'ele_07_12', 'gou_10_03', 'kat_16_03', 'mrn_22_02', 'pin_1_2', 'kar_14_03', 'des_22_02', 'kal_16_03',\n",
        "    'jua_22_03', 'ema_14_02', 'ele_10_03', 'dar_22_03', 'ben_23_03', 'des_16_03', 'chr_22_03', 'ant_23_03',\n",
        "    'asi_08_02', 'ama_16_03', '_teo_10_03', 'ril_22_02', 'kun_22_03', 'nel_1_2', 'mar_1_2', 'mar_23_03', 'nti_16_03',\n",
        "    'dan-17-11', 'kal_08_02', 'mar_22_02', 'rik_22_02', 'ili_09_02', 'pen-17-11', 'leo_22_03', 'var_16_03', 'tro_22_03',\n",
        "    '_jo2_23_03', '_em2_23_03', '_fot_14_03', 'yun_23_03', '_emi_23_03', 'cla_22_03', 'sta_10_03', 'tas_16_03',\n",
        "    'sof_08_02', 'sig_22_02', '_dit_22_02', 'sar_10_03', 'the_08_02', 'ska_16_03', 'ste_04_03', 'sim_14_03', '_tol_11_03'\n",
        "]\n",
        "\n",
        "# create an empty list to store DataFrames for each participant\n",
        "all_participant_dfs = []\n",
        "\n",
        "# Iterate over each participant folder\n",
        "for participant_folder in participant_folders:\n",
        "    # Call the function to combine data for all games played by the participant\n",
        "    combined_data = combine_player_data(participant_folder)\n",
        "\n",
        "    # add the DataFrame to the list\n",
        "    all_participant_dfs.append(combined_data)\n",
        "\n",
        "# combine all DataFrames in the list into a single DataFrame for all participants\n",
        "combined_all_participant_data = pd.concat(all_participant_dfs, ignore_index=True)\n",
        "\n",
        "# # Display the combined DataFrame for all participants, games, and attempts\n",
        "# display(combined_all_participant_data)"
      ]
    },
    {
      "cell_type": "markdown",
      "metadata": {
        "id": "PapU4A75wYT0"
      },
      "source": [
        "Merged Demographics and Preferences"
      ]
    },
    {
      "cell_type": "code",
      "execution_count": 7,
      "metadata": {
        "id": "0OzaLH0awYb2"
      },
      "outputs": [],
      "source": [
        "# Merge the dataframes on 'Participant' column\n",
        "combined_data = pd.merge(pivoted_df, combined_prefs_df, on='Participant', how='inner')\n",
        "\n",
        "# # Display the combined dataframe\n",
        "# display(combined_data)\n"
      ]
    },
    {
      "cell_type": "markdown",
      "metadata": {
        "id": "J9BWkBkEwx0C"
      },
      "source": [
        "# **Linear Regression**"
      ]
    },
    {
      "cell_type": "markdown",
      "metadata": {
        "id": "ou3ID2UCyDm-"
      },
      "source": [
        "**Level A**"
      ]
    },
    {
      "cell_type": "code",
      "execution_count": 8,
      "metadata": {
        "colab": {
          "base_uri": "https://localhost:8080/"
        },
        "id": "d8Hd7553wyBg",
        "outputId": "83061647-dd84-497c-b2b8-92e73989dc1a"
      },
      "outputs": [
        {
          "output_type": "stream",
          "name": "stdout",
          "text": [
            "Mean Squared Error (Level A): 0.6857311733112363\n",
            "R-squared (Level A): 0.2637949336346279\n",
            "Coefficients (Level A): [ 0.01130358  0.05634148 -0.27080378  0.15410871  0.18318724  0.3815707\n",
            " -0.08335532]\n",
            "\n",
            "Data Meaning:\n",
            "sex - 0=male, 1=female\n",
            "play - 0=yes, 1=no\n",
            "played before - 0=yes, 1=no\n",
            "time playing - 0-2 hours per week: 0, 2-5 hours per week: 1, 5-10 hours per week: 2, 10+ hours per week: 3\n",
            "Level challenge and Level frustration - Ranking Values: 0:Extremely, 1:Fairly, 2:Moderately, 3:Slightly, 4:Not at all\n"
          ]
        }
      ],
      "source": [
        "# columns for prediction\n",
        "selected_features_a = ['age', 'sex', 'play', 'playedBefore', 'timePlaying', 'Level A Challenge', 'Level A Frustration']\n",
        "target_variable_a = 'Level A Engagement'\n",
        "\n",
        "# columns from the combined data\n",
        "selected_data_a = combined_data[[target_variable_a] + selected_features_a].dropna()\n",
        "\n",
        "# Split the data into features (X) and target variable (y)\n",
        "X_a = selected_data_a[selected_features_a]\n",
        "y_a = selected_data_a[target_variable_a]\n",
        "\n",
        "# Split the data into training and testing sets\n",
        "X_train_a, X_test_a, y_train_a, y_test_a = train_test_split(X_a, y_a, test_size=0.2, random_state=42)\n",
        "\n",
        "# Create a linear regression model\n",
        "model_a = LinearRegression()\n",
        "\n",
        "# Train model\n",
        "model_a.fit(X_train_a, y_train_a)\n",
        "\n",
        "# Make predictions\n",
        "predictions_a = model_a.predict(X_test_a)\n",
        "\n",
        "# Evaluate\n",
        "mse_a = mean_squared_error(y_test_a, predictions_a)\n",
        "r2_a = r2_score(y_test_a, predictions_a)\n",
        "\n",
        "# Print evaluation metrics\n",
        "print(f'Mean Squared Error (Level A): {mse_a}')\n",
        "print(f'R-squared (Level A): {r2_a}')\n",
        "\n",
        "# Print coefficients\n",
        "print('Coefficients (Level A):', model_a.coef_)\n",
        "\n",
        "# Include data\n",
        "print('\\nData Meaning:')\n",
        "print('sex - 0=male, 1=female')\n",
        "print('play - 0=yes, 1=no')\n",
        "print('played before - 0=yes, 1=no')\n",
        "print('time playing - 0-2 hours per week: 0, 2-5 hours per week: 1, 5-10 hours per week: 2, 10+ hours per week: 3')\n",
        "print('Level challenge and Level frustration - Ranking Values: 0:Extremely, 1:Fairly, 2:Moderately, 3:Slightly, 4:Not at all')"
      ]
    },
    {
      "cell_type": "code",
      "execution_count": 9,
      "metadata": {
        "id": "_2yh7o571sbf",
        "colab": {
          "base_uri": "https://localhost:8080/",
          "height": 564
        },
        "outputId": "bc149d13-c748-4490-9240-ad3dd47e545a"
      },
      "outputs": [
        {
          "output_type": "display_data",
          "data": {
            "text/plain": [
              "<Figure size 1000x600 with 1 Axes>"
            ],
            "image/png": "[encoded data removed]"
          },
          "metadata": {}
        }
      ],
      "source": [
        "import matplotlib.pyplot as plt\n",
        "import seaborn as sns\n",
        "\n",
        "\n",
        "# Plotting the actual vs predicted values\n",
        "plt.figure(figsize=(10, 6))\n",
        "sns.scatterplot(x=y_test_a, y=predictions_a)\n",
        "plt.title('Actual vs Predicted Values for Level A')\n",
        "plt.xlabel('Actual Values')\n",
        "plt.ylabel('Predicted Values')\n",
        "plt.show()"
      ]
    },
    {
      "cell_type": "markdown",
      "metadata": {
        "id": "bozponQSyHgc"
      },
      "source": [
        "**Level B**"
      ]
    },
    {
      "cell_type": "code",
      "execution_count": 10,
      "metadata": {
        "id": "ScWjMZfOyHpn",
        "colab": {
          "base_uri": "https://localhost:8080/"
        },
        "outputId": "2e79f392-7956-4f75-8e31-33817d576286"
      },
      "outputs": [
        {
          "output_type": "stream",
          "name": "stdout",
          "text": [
            "Mean Squared Error (Level B): 0.5923241108298958\n",
            "R-squared (Level B): 0.33230599840876696\n",
            "Coefficients (Level B): [-0.03902735 -0.11871098  0.33802223 -0.13015066 -0.07659257  0.37285939\n",
            "  0.01623306]\n",
            "\n",
            "Data Meaning:\n",
            "sex - 0=male, 1=female\n",
            "play - 0=yes, 1=no\n",
            "played before - 0=yes, 1=no\n",
            "time playing - 0-2 hours per week: 0, 2-5 hours per week: 1, 5-10 hours per week: 2, 10+ hours per week: 3\n",
            "Level challenge and Level frustration - Ranking Values: 0:Extremely, 1:Fairly, 2:Moderately, 3:Slightly, 4:Not at all\n"
          ]
        }
      ],
      "source": [
        "# columns for prediction\n",
        "selected_features_b = ['age', 'sex', 'play', 'playedBefore', 'timePlaying', 'Level B Challenge', 'Level B Frustration']\n",
        "target_variable_b = 'Level B Engagement'\n",
        "\n",
        "# columns from the combined data\n",
        "selected_data_b = combined_data[[target_variable_b] + selected_features_b].dropna()\n",
        "\n",
        "# Split the data into features and target variable\n",
        "X_b = selected_data_b[selected_features_b]\n",
        "y_b = selected_data_b[target_variable_b]\n",
        "\n",
        "# Split the data - training and testing\n",
        "X_train_b, X_test_b, y_train_b, y_test_b = train_test_split(X_b, y_b, test_size=0.2, random_state=42)\n",
        "\n",
        "# Create model\n",
        "model_b = LinearRegression()\n",
        "\n",
        "# Train\n",
        "model_b.fit(X_train_b, y_train_b)\n",
        "\n",
        "# Make predictions\n",
        "predictions_b = model_b.predict(X_test_b)\n",
        "\n",
        "# Evaluate\n",
        "mse_b = mean_squared_error(y_test_b, predictions_b)\n",
        "r2_b = r2_score(y_test_b, predictions_b)\n",
        "\n",
        "# Print metrics\n",
        "print(f'Mean Squared Error (Level B): {mse_b}')\n",
        "print(f'R-squared (Level B): {r2_b}')\n",
        "\n",
        "# Print coefficients\n",
        "print('Coefficients (Level B):', model_b.coef_)\n",
        "\n",
        "# Include data meaning\n",
        "print('\\nData Meaning:')\n",
        "print('sex - 0=male, 1=female')\n",
        "print('play - 0=yes, 1=no')\n",
        "print('played before - 0=yes, 1=no')\n",
        "print('time playing - 0-2 hours per week: 0, 2-5 hours per week: 1, 5-10 hours per week: 2, 10+ hours per week: 3')\n",
        "print('Level challenge and Level frustration - Ranking Values: 0:Extremely, 1:Fairly, 2:Moderately, 3:Slightly, 4:Not at all')"
      ]
    },
    {
      "cell_type": "code",
      "execution_count": 11,
      "metadata": {
        "id": "NdCqfA8410Pn",
        "colab": {
          "base_uri": "https://localhost:8080/",
          "height": 564
        },
        "outputId": "650b93ba-797b-4fa8-ffe1-06a72919064d"
      },
      "outputs": [
        {
          "output_type": "display_data",
          "data": {
            "text/plain": [
              "<Figure size 1000x600 with 1 Axes>"
            ],
            "image/png": "[encoded data removed]"
          },
          "metadata": {}
        }
      ],
      "source": [
        "\n",
        "\n",
        "# Plot the actual vs predicted values\n",
        "plt.figure(figsize=(10, 6))\n",
        "sns.scatterplot(x=y_test_b, y=predictions_b)\n",
        "plt.title('Actual vs Predicted Values for Level B')\n",
        "plt.xlabel('Actual Values')\n",
        "plt.ylabel('Predicted Values')\n",
        "plt.show()"
      ]
    }
  ],
  "metadata": {
    "colab": {
      "collapsed_sections": [
        "pofTaWXZvD7T",
        "sqhITaU-vdRe"
      ],
      "provenance": [],
      "authorship_tag": "ABX9TyO45IuyAxQcnxp9IObn78Qw",
      "include_colab_link": true
    },
    "kernelspec": {
      "display_name": "Python 3",
      "name": "python3"
    },
    "language_info": {
      "name": "python"
    }
  },
  "nbformat": 4,
  "nbformat_minor": 0
}